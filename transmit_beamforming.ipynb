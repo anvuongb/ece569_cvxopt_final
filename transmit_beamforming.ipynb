{
 "cells": [
  {
   "cell_type": "code",
   "execution_count": 21,
   "id": "32186a3b-5e90-4bf9-a165-e97e3921ba5e",
   "metadata": {},
   "outputs": [],
   "source": [
    "import numpy as np\n",
    "import cvxpy as cp\n",
    "import matplotlib.pyplot as plt\n",
    "import tqdm\n",
    "import scipy"
   ]
  },
  {
   "cell_type": "code",
   "execution_count": 2,
   "id": "844b776f-5446-4f86-8081-4aa9900b6c2b",
   "metadata": {},
   "outputs": [],
   "source": [
    "# set random seed for debugging purpose, need to turn off when perform monte carlo\n",
    "# np.random.seed(42)"
   ]
  },
  {
   "cell_type": "code",
   "execution_count": 69,
   "id": "ee16bf8b-e33e-4f91-ad5a-da4aa5a1a9d8",
   "metadata": {},
   "outputs": [],
   "source": [
    "N = 4 # number of transmit antennas\n",
    "M = 8 # number of mobile users\n",
    "# P = 1 # transmit power\n",
    "\n",
    "# QoS\n",
    "rho_min_qos_sigma2 = 5 #rho_min_i * sigma_i^2 = 1 for all i\n",
    "\n",
    "# Max-Min\n",
    "sigma_i = 1 \n",
    "\n",
    "def generate_channels(N, M, rho_min_qos_sigma2=1, sigma_i=1):\n",
    "    # channel generation\n",
    "    h_array = []\n",
    "    h_array_norm_QoS = []\n",
    "    h_array_norm_MaxMin = []\n",
    "    for i in range(M):\n",
    "        # complex normal with zero-mean, unit-variance\n",
    "        # h_i = np.random.normal(loc=0, scale=np.sqrt(2)/2, size=(N, 2)).view(np.complex128)\n",
    "        h_i = np.sqrt(2)/2*(np.random.randn(N) + 1j*np.random.randn(N)).reshape((N, 1))\n",
    "        h_array.append(h_i)\n",
    "\n",
    "        # normalization QoS\n",
    "        h_i_norm_QoS = h_i/np.sqrt(rho_min_qos_sigma2)\n",
    "        h_array_norm_QoS.append(h_i_norm_QoS)\n",
    "\n",
    "        # normalization MaxMin\n",
    "        h_i_norm_MaxMin = h_i/sigma_i\n",
    "        h_array_norm_MaxMin.append(h_i_norm_MaxMin)\n",
    "\n",
    "    # generate H_i matrix\n",
    "    H_array = []\n",
    "    H_array_norm_QoS = []\n",
    "    H_array_norm_MaxMin = []\n",
    "    for i in range(M):\n",
    "        H_array.append(np.matmul(h_array[i], np.conjugate(h_array[i]).T))\n",
    "        H_array_norm_QoS.append(np.matmul(h_array_norm_QoS[i], np.conjugate(h_array_norm_QoS[i]).T))\n",
    "        H_array_norm_MaxMin.append(np.matmul(h_array_norm_MaxMin[i], np.conjugate(h_array_norm_MaxMin[i]).T))\n",
    "        \n",
    "    return h_array, h_array_norm_QoS, h_array_norm_MaxMin, H_array, H_array_norm_QoS, H_array_norm_MaxMin\n",
    "    "
   ]
  },
  {
   "cell_type": "code",
   "execution_count": 41,
   "id": "6de5ab2d-cad5-492c-a48c-79c9edbca8c2",
   "metadata": {},
   "outputs": [],
   "source": [
    "# h_array, h_array_norm_QoS, h_array_norm_MaxMin, H_array, H_array_norm_QoS, H_array_norm_MaxMin = generate_channels(N, M, rho_min_qos_sigma2=rho_min_qos_sigma2, sigma_i=sigma_i)"
   ]
  },
  {
   "cell_type": "markdown",
   "id": "2850b8f0-0137-406e-bef0-04a6b95b4d44",
   "metadata": {},
   "source": [
    "## Randomization"
   ]
  },
  {
   "cell_type": "code",
   "execution_count": 42,
   "id": "62b3516b-22fb-4219-9804-f9b1e5dbe171",
   "metadata": {},
   "outputs": [],
   "source": [
    "e_js = np.random.normal(loc=0, scale=np.sqrt(2)/2, size=(8, 2)).view(np.complex128)"
   ]
  },
  {
   "cell_type": "code",
   "execution_count": 43,
   "id": "84e5d35c-f669-4a89-8574-08f2e9b28a92",
   "metadata": {},
   "outputs": [],
   "source": [
    "def recover_w_SVD(W_opt):\n",
    "    v, d = np.linalg.eig(W_opt)\n",
    "    w_opt = d[:,0]\n",
    "    return w_opt.reshape((W_opt.shape[0], 1))\n",
    "\n",
    "def recover_w_randA(W_opt):\n",
    "    v, d = np.linalg.eig(W_opt)\n",
    "    # rand e\n",
    "    e_js = np.random.uniform(0, 2*np.pi, W_opt.shape[0]).reshape((W_opt.shape[0], 1))\n",
    "    e = np.cos(e_js) + 1j*np.sin(e_js)\n",
    "    \n",
    "    Sigma_sqrt = np.sqrt(np.diag(v))\n",
    "    w_opt = np.matmul(np.matmul(d, Sigma_sqrt), e)\n",
    "    return w_opt.reshape((W_opt.shape[0], 1))\n",
    "\n",
    "def recover_w_randB(W_opt):\n",
    "    e_js = np.random.uniform(0, 2*np.pi, W_opt.shape[0]).reshape((W_opt.shape[0], 1))\n",
    "    e = np.cos(e_js) + 1j*np.sin(e_js)\n",
    "    w_opt = np.matmul(np.sqrt(np.diag(np.diag(W_opt))), e)\n",
    "    return w_opt.reshape((W_opt.shape[0], 1))\n",
    "    \n",
    "def recover_w_randC(W_opt):\n",
    "    v, d = np.linalg.eig(W_opt)\n",
    "    # rand e\n",
    "    e_js = np.random.normal(loc=0, scale=np.sqrt(2)/2, size=(W_opt.shape[0], 2)).view(np.complex128)\n",
    "    e = np.cos(e_js) + 1j*np.sin(e_js)\n",
    "    \n",
    "    Sigma_sqrt = np.sqrt(np.diag(v))\n",
    "    w_opt = np.matmul(np.matmul(d, Sigma_sqrt), e)\n",
    "    return w_opt.reshape((W_opt.shape[0], 1))\n",
    "    "
   ]
  },
  {
   "cell_type": "markdown",
   "id": "ede362ab-30d1-4d3d-8591-a2fa5cfb3856",
   "metadata": {},
   "source": [
    "## Check violation"
   ]
  },
  {
   "cell_type": "code",
   "execution_count": 44,
   "id": "3820b62e-7f36-4f94-821d-7a92dbc967ae",
   "metadata": {},
   "outputs": [],
   "source": [
    "def check_violation(w, h):\n",
    "    scale_factor = 1\n",
    "    constraint = np.abs(np.dot(w.T, h))[0][0]**2\n",
    "    # print(constraint)\n",
    "    violate = constraint < 1\n",
    "    if violate:\n",
    "        return np.sqrt(1.0/constraint), constraint\n",
    "    return scale_factor, constraint\n",
    "\n",
    "def get_min_scale_factor(w, H):\n",
    "    scale_factor = -np.inf\n",
    "    for i in range(np.shape(H)[0]):\n",
    "        s, _ = check_violation(w, H[i])\n",
    "        scale_factor = np.max([scale_factor, s])\n",
    "    return scale_factor"
   ]
  },
  {
   "cell_type": "markdown",
   "id": "971ca8aa-6727-4063-b465-7b03e0330031",
   "metadata": {
    "tags": []
   },
   "source": [
    "## QoS formulation"
   ]
  },
  {
   "cell_type": "code",
   "execution_count": 75,
   "id": "33d08610-9b06-4742-9f64-e9f8a027cdac",
   "metadata": {},
   "outputs": [],
   "source": [
    "h_array, h_array_norm_QoS, h_array_norm_MaxMin, H_array, H_array_norm_QoS, H_array_norm_MaxMin = generate_channels(N, M, rho_min_qos_sigma2=rho_min_qos_sigma2, sigma_i=sigma_i)"
   ]
  },
  {
   "cell_type": "code",
   "execution_count": 85,
   "id": "90d2d4b5-dc04-4000-8dde-84466170d7ae",
   "metadata": {},
   "outputs": [
    {
     "name": "stdout",
     "output_type": "stream",
     "text": [
      "optimal objective value =  4.372680846362005\n",
      "SVD upper bound power boost =  125.54627706433969\n",
      "upper bound power boost =  23.463189734805947 mean =  46.23384056983108 std =  23.24967899953287\n"
     ]
    }
   ],
   "source": [
    "W = cp.Variable((N, N), hermitian=True)\n",
    "\n",
    "# need to use cp.real since cp.trace will give imaginary part = 0j, which will break the code\n",
    "constraints = [W >> 0]\n",
    "constraints += [cp.real(cp.trace(cp.matmul(W, H_array_norm_QoS[i]))) >= 1 for i in range(M)]\n",
    "\n",
    "prob = cp.Problem(cp.Minimize( cp.real(cp.trace(W))),\n",
    "             constraints)\n",
    "opt = prob.solve(solver=\"MOSEK\", verbose=False)\n",
    "W_opt = W.value\n",
    "\n",
    "print(\"optimal objective value = \", opt)\n",
    "# print(\"optimal beamforming vector = \", W_opt)\n",
    "\n",
    "# recover svd\n",
    "w_SVD   = recover_w_SVD(W_opt)\n",
    "scale_factor_SVD = get_min_scale_factor(w_SVD, H_array_norm_QoS)\n",
    "w_SVD *= scale_factor_SVD\n",
    "ubpb_SVD = np.linalg.norm(w_SVD)**2/opt\n",
    "print(\"SVD upper bound power boost = \", ubpb_SVD)\n",
    "ubpb = []\n",
    "\n",
    "for i in range(1000):\n",
    "    # recover randomization\n",
    "    w_randA = recover_w_randA(W_opt)\n",
    "    w_randB = recover_w_randB(W_opt)\n",
    "    w_randC = recover_w_randC(W_opt)\n",
    "\n",
    "    scale_factor_randA = get_min_scale_factor(w_randA, H_array_norm_QoS)\n",
    "    scale_factor_randB = get_min_scale_factor(w_randB, H_array_norm_QoS)\n",
    "    scale_factor_randC = get_min_scale_factor(w_randC, H_array_norm_QoS)\n",
    "\n",
    "    w_randA *= scale_factor_randA\n",
    "    w_randB *= scale_factor_randB\n",
    "    w_randC *= scale_factor_randC\n",
    "    \n",
    "    w_l = [w_SVD, w_randA, w_randB, w_randC]\n",
    "    norm_l = [np.linalg.norm(w_SVD)**2, np.linalg.norm(w_randA)**2, np.linalg.norm(w_randB)**2, np.linalg.norm(w_randC)**2]\n",
    "\n",
    "    w_min = w_l[np.argmin(norm_l)]\n",
    "    ubpb.append(np.linalg.norm(w_min)**2/opt)\n",
    "    \n",
    "print(\"upper bound power boost = \", np.min(ubpb), \"mean = \", np.mean(ubpb), \"std = \", np.std(ubpb))"
   ]
  },
  {
   "cell_type": "markdown",
   "id": "d0308d15-04a5-4633-8c9d-fc105a4b81e5",
   "metadata": {
    "tags": []
   },
   "source": [
    "## MaxMin formulation"
   ]
  },
  {
   "cell_type": "code",
   "execution_count": null,
   "id": "b63b5244-2a0d-44c2-a809-b6fa26340ddb",
   "metadata": {},
   "outputs": [],
   "source": [
    "W = cp.Variable((N, N), hermitian=True)\n",
    "t = cp.Variable(1)\n",
    "\n",
    "constraints = [W >> 0]\n",
    "constraints += [cp.real(cp.trace(cp.matmul(W, H_array_norm_QoS[i]))) >= 1 for i in range(M)]\n",
    "\n",
    "prob = cp.Problem(cp.Minimize( cp.real(cp.trace(W))),\n",
    "             constraints)\n",
    "prob.solve(verbose=True)"
   ]
  }
 ],
 "metadata": {
  "kernelspec": {
   "display_name": "tf2",
   "language": "python",
   "name": "tf2"
  },
  "language_info": {
   "codemirror_mode": {
    "name": "ipython",
    "version": 3
   },
   "file_extension": ".py",
   "mimetype": "text/x-python",
   "name": "python",
   "nbconvert_exporter": "python",
   "pygments_lexer": "ipython3",
   "version": "3.10.4"
  }
 },
 "nbformat": 4,
 "nbformat_minor": 5
}
